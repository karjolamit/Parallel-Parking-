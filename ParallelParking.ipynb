%%HTML
<link rel="stylesheet" type="text/css" href="buttonStyle.css">
<button id="launcher">Launch Car Simulator</button>
<button id="restart">Restart Connection</button>
<script src="setupLauncher.js"></script>
<script src="kernelRestart.js"></script>

car_parameters = {"throttle": 0, "steer": 0, "brake": 0}

def control(pos_x, pos_y, time, velocity):
    """ Controls the simulated car"""
    global car_parameters
    
    
    # TODO: Use WASD keys in simulator to gain an intuitive feel of parallel parking.
    # Pay close attention to the time, position, and velocity in the simulator.
    
    # TODO: Use this information to make decisions about how to set your car parameters
    
    # In this example the car will drive forward for three seconds
    # and then backs up until its pos_y is less than 32 then comes to a stop by braking
    
    if time<3:
        car_parameters['throttle'] = -1.85
        car_parameters['steer'] = 25
    elif time<5.5:
        car_parameters['throttle'] = -1.85
        car_parameters['steer'] = -25
    elif time<6.5:
        car_parameters['throttle'] = 0
        car_parameters['brake'] = 1
    elif time<7:
        car_parameters['brake'] = 1
        car_parameters['throttle'] = 0.5
        car_parameters['steer'] = 0
    else:
        car_parameters['throttle'] = 0
        car_parameters['brake'] = 1
    
    return car_parameters
    
import src.simulate as sim
sim.run(control)


